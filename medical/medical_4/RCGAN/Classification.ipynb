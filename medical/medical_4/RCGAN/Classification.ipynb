{
 "cells": [
  {
   "cell_type": "markdown",
   "metadata": {},
   "source": [
    "# Data Split"
   ]
  },
  {
   "cell_type": "code",
   "execution_count": null,
   "metadata": {},
   "outputs": [],
   "source": [
    "import os\n",
    "import random\n",
    "import numpy as np\n",
    "from tqdm import tqdm\n",
    "\n",
    "is_synthetic = True\n",
    "pid_list = os.listdir(\"./Dataset/physionet.org/files/eicu-crd/2.0/preprocessed/sequences\")\n",
    "random.seed(1234)\n",
    "random.shuffle(pid_list)\n",
    "\n",
    "X, Y = [], []\n",
    "for i, pid in enumerate(tqdm(pid_list)):\n",
    "    if i<int(0.8*len(pid_list)) and is_synthetic==True:\n",
    "        seq = np.load(f\"./synthetic_dataset/sequences/{pid}\")\n",
    "        label = np.load(f\"./synthetic_dataset/labels/{pid}\")\n",
    "    else:\n",
    "        seq = np.load(f\"./Dataset/physionet.org/files/eicu-crd/2.0/preprocessed/sequences/{pid}\")\n",
    "        label = np.load(f\"./Dataset/physionet.org/files/eicu-crd/2.0/preprocessed/labels/{pid}\")\n",
    "    \n",
    "    X.append(seq)\n",
    "    Y.append(label)\n",
    "    \n",
    "X = np.stack(X, axis=0)\n",
    "Y = np.stack(Y, axis=0)\n",
    "\n",
    "X_train, Y_train = X[:int(0.8*len(X))], Y[:int(0.8*len(X))]\n",
    "X_val, Y_val = X[int(0.8*len(X)):int(0.9*len(X))], Y[int(0.8*len(X)):int(0.9*len(X))]\n",
    "X_test, Y_test = X[int(0.9*len(X)):], Y[int(0.9*len(X)):]"
   ]
  },
  {
   "cell_type": "markdown",
   "metadata": {},
   "source": [
    "# Random Forest"
   ]
  },
  {
   "cell_type": "code",
   "execution_count": null,
   "metadata": {},
   "outputs": [],
   "source": [
    "from sklearn.ensemble import RandomForestClassifier\n",
    "from sklearn.metrics import roc_auc_score\n",
    "\n",
    "for i in range(5):\n",
    "    print(i)\n",
    "    clf = RandomForestClassifier(max_depth=3, random_state=0)\n",
    "    clf.fit(X_train.reshape(-1, 48), Y_train[:, i])\n",
    "    \n",
    "    print(roc_auc_score(Y_train[:, i], clf.predict_proba(X_train.reshape(-1, 48))[:,1]))\n",
    "    print(roc_auc_score(Y_val[:, i], clf.predict_proba(X_val.reshape(-1, 48))[:,1]))\n",
    "    print(roc_auc_score(Y_test[:, i], clf.predict_proba(X_test.reshape(-1, 48))[:,1]))\n",
    "    print()"
   ]
  }
 ],
 "metadata": {
  "kernelspec": {
   "display_name": "Environment (conda_medgan)",
   "language": "python",
   "name": "conda_medgan"
  },
  "language_info": {
   "codemirror_mode": {
    "name": "ipython",
    "version": 3
   },
   "file_extension": ".py",
   "mimetype": "text/x-python",
   "name": "python",
   "nbconvert_exporter": "python",
   "pygments_lexer": "ipython3",
   "version": "3.9.13"
  }
 },
 "nbformat": 4,
 "nbformat_minor": 4
}
