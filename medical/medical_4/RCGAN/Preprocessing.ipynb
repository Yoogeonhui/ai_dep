{
 "cells": [
  {
   "cell_type": "markdown",
   "metadata": {},
   "source": [
    "# eICU Dataset"
   ]
  },
  {
   "cell_type": "code",
   "execution_count": null,
   "metadata": {},
   "outputs": [],
   "source": [
    "import pandas as pd\n",
    "import os\n",
    "import IPython.display as ipd\n",
    "import numpy as np\n",
    "import time\n",
    "from tqdm import tqdm\n",
    "\n",
    "def count_patients(df):\n",
    "    return len(list(set(df.pid)))\n",
    "\n",
    "base_path = \"./Dataset/physionet.org/files/eicu-crd/2.0\"\n",
    "target_file = \"vitalPeriodic.csv.gz\" # full version: 146,671,642 rows × 19 columns\n",
    "print(f\"File name: {target_file} \")\n",
    "start=time.time()\n",
    "df = pd.read_csv(f\"{base_path}/{target_file}\",\n",
    "                 compression='gzip',\n",
    "                 usecols=['observationoffset', 'patientunitstayid', 'heartrate', 'sao2', 'respiration'])\n",
    "print(f\"Elapsed time...: {time.time()-start}\")\n",
    "\n",
    "df.rename(columns={'patientunitstayid': 'pid'}, inplace=True)\n",
    "df['pid'] = np.int32(df['pid'])\n",
    "\n",
    "df.observationoffset = pd.TimedeltaIndex(df.observationoffset, unit='m')\n",
    "df.set_index('observationoffset', inplace=True)\n",
    "df.sort_index(inplace=True)\n",
    "\n",
    "df['offset'] = np.int32(df.index.total_seconds()/60)\n",
    "df = df.groupby('pid').filter(lambda x: np.all(x.offset >= 0))\n",
    "print(f\"{count_patients(df)}/{len(df)}\")\n",
    "ipd.display(df)"
   ]
  },
  {
   "cell_type": "markdown",
   "metadata": {},
   "source": [
    "# Resampling"
   ]
  },
  {
   "cell_type": "code",
   "execution_count": null,
   "metadata": {
    "scrolled": true
   },
   "outputs": [],
   "source": [
    "df_resample=[]\n",
    "start=time.time()\n",
    "for pid in tqdm(list(set(df.pid))):\n",
    "    # resample by time\n",
    "    df_pid = df[df.pid==pid]\n",
    "    df_pid_resample = df_pid.resample(str(15) + 'T').median()\n",
    "    \n",
    "    # remove data including any period that are not measured for a long time\n",
    "    if np.any(df_pid_resample.pid.isna()):\n",
    "        continue\n",
    "    \n",
    "    df_resample.append(df_pid_resample)\n",
    "print(f\"Elapsed time...: {time.time()-start}\")    \n",
    "df = pd.concat(df_resample)\n",
    "print(f\"{count_patients(df)}/{len(df)}\")\n",
    "ipd.display(df)"
   ]
  },
  {
   "cell_type": "markdown",
   "metadata": {},
   "source": [
    "# Filtering"
   ]
  },
  {
   "cell_type": "code",
   "execution_count": null,
   "metadata": {},
   "outputs": [],
   "source": [
    "start=time.time()\n",
    "df = df.groupby('pid').filter(lambda x: len(x)>=20) # 5 hours, the last 1 hour is used for labelling\n",
    "print(f\"{count_patients(df)}/{len(df)}\")\n",
    "df = df.groupby('pid').filter(lambda x: np.logical_not(np.any(x.respiration[:20].isna())))\n",
    "print(f\"{count_patients(df)}/{len(df)}\")\n",
    "df = df.groupby('pid').filter(lambda x: np.logical_not(np.any(x.sao2[:20].isna())))\n",
    "print(f\"{count_patients(df)}/{len(df)}\")\n",
    "df = df.groupby('pid').filter(lambda x: np.logical_not(np.any(x.heartrate[:20].isna())))\n",
    "print(f\"{count_patients(df)}/{len(df)}\")\n",
    "print(f\"Elapsed time...: {time.time()-start}\")"
   ]
  },
  {
   "cell_type": "markdown",
   "metadata": {},
   "source": [
    "# Cropping & Labelling & Writing"
   ]
  },
  {
   "cell_type": "code",
   "execution_count": null,
   "metadata": {
    "scrolled": true
   },
   "outputs": [],
   "source": [
    "if not os.path.exists(f\"{base_path}/preprocessed\"):\n",
    "    os.mkdir(f\"{base_path}/preprocessed\")\n",
    "    os.mkdir(f\"{base_path}/preprocessed/sequences\")\n",
    "    os.mkdir(f\"{base_path}/preprocessed/labels\")\n",
    "\n",
    "df_cropped=[]\n",
    "start=time.time()\n",
    "for pid in tqdm(list(set(df.pid))):\n",
    "    # resample by time\n",
    "    df_pid = df[df.pid==pid]\n",
    "    df_cropped.append(df_pid.iloc[:16])\n",
    "    seq = np.asarray(df_pid.iloc[:16,1:4])\n",
    "    label = np.asarray([np.any(np.asarray(df_pid.iloc[16:20, 1])<95),\n",
    "                        np.any(np.asarray(df_pid.iloc[16:20, 2])<70),\n",
    "                        np.any(np.asarray(df_pid.iloc[16:20, 2])>100),\n",
    "                        np.any(np.asarray(df_pid.iloc[16:20, 3])<13),\n",
    "                        np.any(np.asarray(df_pid.iloc[16:20, 3])>20)])\n",
    "    np.save(f\"{base_path}/preprocessed/sequences/{str(int(pid))}.npy\", seq)\n",
    "    np.save(f\"{base_path}/preprocessed/labels/{str(int(pid))}.npy\", label)\n",
    "print(f\"Elapsed time...: {time.time()-start}\")\n",
    "df = pd.concat(df_cropped)\n",
    "print(f\"{count_patients(df)}/{len(df)}\")\n",
    "ipd.display(df)"
   ]
  }
 ],
 "metadata": {
  "kernelspec": {
   "display_name": "Environment (conda_medgan)",
   "language": "python",
   "name": "conda_medgan"
  },
  "language_info": {
   "codemirror_mode": {
    "name": "ipython",
    "version": 3
   },
   "file_extension": ".py",
   "mimetype": "text/x-python",
   "name": "python",
   "nbconvert_exporter": "python",
   "pygments_lexer": "ipython3",
   "version": "3.9.13"
  }
 },
 "nbformat": 4,
 "nbformat_minor": 4
}
