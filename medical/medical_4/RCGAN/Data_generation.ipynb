{
 "cells": [
  {
   "cell_type": "code",
   "execution_count": 1,
   "metadata": {},
   "outputs": [
    {
     "name": "stderr",
     "output_type": "stream",
     "text": [
      "100%|██████████████████████████████████████████████████████████████████████████████████████████████████████████████████████████████████████████████████████████████████████████████████████████████████████████████████████████████████████████████████████████████████████████████████████████████████████████████████████████████████████████████████████████████████████████████████████████████| 57391/57391 [00:12<00:00, 4730.05it/s]\n",
      "100%|███████████████████████████████████████████████████████████████████████████████████████████████████████████████████████████████████████████████████████████████████████████████████████████████████████████████████████████████████████████████████████████████████████████████████████████████████████████████████████████████████████████████████████████████████████████████████████████████| 71739/71739 [06:39<00:00, 179.79it/s]\n"
     ]
    }
   ],
   "source": [
    "import os\n",
    "import torch\n",
    "import torch.nn as nn\n",
    "import torch.nn.functional as F\n",
    "from modules import RCGAN\n",
    "import random\n",
    "import hparams as hp\n",
    "import numpy as np\n",
    "import pandas as pd\n",
    "from utils import *\n",
    "from torch.utils.data import DataLoader\n",
    "from tqdm import tqdm\n",
    "\n",
    "\n",
    "pid_list = os.listdir(\"./Dataset/physionet.org/files/eicu-crd/2.0/preprocessed/sequences\")\n",
    "random.seed(1234)\n",
    "random.shuffle(pid_list)\n",
    "\n",
    "seq_list = []\n",
    "for pid in tqdm(pid_list[:int(0.8*len(pid_list))]):\n",
    "    seq = np.load(f\"./Dataset/physionet.org/files/eicu-crd/2.0/preprocessed/sequences/{pid}\")\n",
    "    seq_list.append(seq)\n",
    "\n",
    "mu, std = np.concatenate(seq_list, axis=0).mean(axis=0), np.concatenate(seq_list, axis=0).std(axis=0)\n",
    "\n",
    "model = RCGAN(hp).cuda()\n",
    "checkpoint_dict = torch.load(\"./training_log/eICU/RCGAN_checkpoint_440000.pt\", map_location='cpu')\n",
    "model.load_state_dict(checkpoint_dict['state_dict'])\n",
    "model.eval()\n",
    "\n",
    "for pid in tqdm(pid_list):\n",
    "    label = np.load(f\"./Dataset/physionet.org/files/eicu-crd/2.0/preprocessed/labels/{pid}\")\n",
    "    preds = model(torch.LongTensor(label).unsqueeze(0).cuda())\n",
    "    \n",
    "    seq = std*preds[0].detach().cpu().numpy()+mu\n",
    "    np.save(f\"./synthetic_dataset/sequences/{pid}\", seq)\n",
    "    np.save(f\"./synthetic_dataset/labels/{pid}\", label)\n"
   ]
  }
 ],
 "metadata": {
  "kernelspec": {
   "display_name": "Environment (conda_medgan)",
   "language": "python",
   "name": "conda_medgan"
  },
  "language_info": {
   "codemirror_mode": {
    "name": "ipython",
    "version": 3
   },
   "file_extension": ".py",
   "mimetype": "text/x-python",
   "name": "python",
   "nbconvert_exporter": "python",
   "pygments_lexer": "ipython3",
   "version": "3.9.13"
  }
 },
 "nbformat": 4,
 "nbformat_minor": 4
}
