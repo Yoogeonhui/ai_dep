{
 "cells": [
  {
   "cell_type": "markdown",
   "id": "a9e05ac0",
   "metadata": {},
   "source": [
    "# TSTR"
   ]
  },
  {
   "cell_type": "code",
   "execution_count": 1,
   "id": "92a39aa5",
   "metadata": {
    "scrolled": true
   },
   "outputs": [
    {
     "name": "stdout",
     "output_type": "stream",
     "text": [
      "{'n_estimators': 446, 'max_depth': 9, 'min_samples_split': 36, 'min_samples_leaf': 47}\n",
      "CPU times: user 7.79 s, sys: 2.79 s, total: 10.6 s\n",
      "Wall time: 9.42 s\n"
     ]
    }
   ],
   "source": [
    "%%time\n",
    "import os\n",
    "import random\n",
    "import numpy as np\n",
    "import pandas as pd\n",
    "from utils import *\n",
    "from tqdm import tqdm_notebook\n",
    "import IPython.display as ipd\n",
    "from sklearn.ensemble import RandomForestClassifier\n",
    "from sklearn.metrics import roc_auc_score\n",
    "import pickle as pkl\n",
    "import warnings\n",
    "warnings.filterwarnings(\"ignore\")\n",
    "\n",
    "GAP_TIME = 6\n",
    "WINDOW_SIZE = 24\n",
    "ID_COLS = ['subject_id', 'hadm_id', 'icustay_id']\n",
    "DATA_FILEPATH = \"./Dataset/all_hourly_data.h5\"\n",
    "\n",
    "X = pd.read_hdf(DATA_FILEPATH, 'vitals_labs')\n",
    "statics = pd.read_hdf(DATA_FILEPATH, 'patients')\n",
    "Y = statics[statics.max_hours > WINDOW_SIZE + GAP_TIME][['mort_hosp', 'mort_icu', 'los_icu']]\n",
    "Y['los_3'] = Y['los_icu'] > 3\n",
    "Y['los_7'] = Y['los_icu'] > 7\n",
    "Y.drop(columns=['los_icu'], inplace=True)\n",
    "Y.astype(float)\n",
    "\n",
    "idx2task = ['mort_hosp', 'mort_icu', 'los_3', 'los_7']\n",
    "df_X, df_Y = aggregate_data(X, Y)\n",
    "\n",
    "train_frac, dev_frac, test_frac = 0.8, 0.1, 0.1\n",
    "X_subj_idx, Y_subj_idx = [df.index.get_level_values('subject_id') for df in (df_X, df_Y)]\n",
    "X_subjects = set(X_subj_idx)\n",
    "assert X_subjects == set(Y_subj_idx), \"Subject ID pools differ!\"\n",
    "\n",
    "np.random.seed(0)\n",
    "subjects, N = np.random.permutation(list(X_subjects)), len(X_subjects)\n",
    "N_train, N_dev, N_test = int(train_frac * N), int(dev_frac * N), int(test_frac * N)\n",
    "train_subj = subjects[:N_train]\n",
    "dev_subj   = subjects[N_train:N_train + N_dev]\n",
    "test_subj  = subjects[N_train+N_dev:]\n",
    "\n",
    "with open(\"best_hyperparams.pkl\", \"rb\") as f:\n",
    "    hyperparams = pkl.load(f)\n",
    "    \n",
    "print(hyperparams)"
   ]
  },
  {
   "cell_type": "code",
   "execution_count": 2,
   "id": "1f6f1f67",
   "metadata": {
    "scrolled": true
   },
   "outputs": [
    {
     "name": "stdout",
     "output_type": "stream",
     "text": [
      "# real #\n",
      "mort_hosp\n",
      "0.8951527243797889\n",
      "0.868291966830414\n",
      "0.8398673393513596\n",
      "mort_icu\n",
      "0.9169491487834793\n",
      "0.8887373402666828\n",
      "0.8603057355998531\n",
      "los_3\n",
      "0.770203083364848\n",
      "0.7011973967455738\n",
      "0.7096158689369912\n",
      "los_7\n",
      "0.8380326753671405\n",
      "0.7343740841825748\n",
      "0.7347281099615609\n",
      "\n",
      "\n",
      "\n",
      "# codear #\n"
     ]
    },
    {
     "data": {
      "application/vnd.jupyter.widget-view+json": {
       "model_id": "2b49af23cef7427e9fc5e1d240b28a4d",
       "version_major": 2,
       "version_minor": 0
      },
      "text/plain": [
       "  0%|          | 0/19155 [00:00<?, ?it/s]"
      ]
     },
     "metadata": {},
     "output_type": "display_data"
    },
    {
     "name": "stdout",
     "output_type": "stream",
     "text": [
      "mort_hosp\n",
      "0.8806695420452674\n",
      "0.8408225083425233\n",
      "0.8163459600697702\n",
      "mort_icu\n",
      "0.9048915862534834\n",
      "0.8767176401679624\n",
      "0.8395450654274185\n",
      "los_3\n",
      "0.7818121097888745\n",
      "0.6794365107507816\n",
      "0.6790605386685107\n",
      "los_7\n",
      "0.8458795462643792\n",
      "0.7255006893317941\n",
      "0.7314820304548464\n",
      "\n",
      "\n",
      "\n"
     ]
    },
    {
     "data": {
      "text/html": [
       "<div>\n",
       "<style scoped>\n",
       "    .dataframe tbody tr th:only-of-type {\n",
       "        vertical-align: middle;\n",
       "    }\n",
       "\n",
       "    .dataframe tbody tr th {\n",
       "        vertical-align: top;\n",
       "    }\n",
       "\n",
       "    .dataframe thead tr th {\n",
       "        text-align: left;\n",
       "    }\n",
       "</style>\n",
       "<table border=\"1\" class=\"dataframe\">\n",
       "  <thead>\n",
       "    <tr>\n",
       "      <th>task</th>\n",
       "      <th colspan=\"3\" halign=\"left\">mort_icu</th>\n",
       "      <th colspan=\"3\" halign=\"left\">mort_hosp</th>\n",
       "      <th colspan=\"3\" halign=\"left\">los_3</th>\n",
       "      <th colspan=\"3\" halign=\"left\">los_7</th>\n",
       "    </tr>\n",
       "    <tr>\n",
       "      <th>auroc</th>\n",
       "      <th>train</th>\n",
       "      <th>dev</th>\n",
       "      <th>test</th>\n",
       "      <th>train</th>\n",
       "      <th>dev</th>\n",
       "      <th>test</th>\n",
       "      <th>train</th>\n",
       "      <th>dev</th>\n",
       "      <th>test</th>\n",
       "      <th>train</th>\n",
       "      <th>dev</th>\n",
       "      <th>test</th>\n",
       "    </tr>\n",
       "  </thead>\n",
       "  <tbody>\n",
       "    <tr>\n",
       "      <th>real</th>\n",
       "      <td>91.69</td>\n",
       "      <td>88.87</td>\n",
       "      <td>86.03</td>\n",
       "      <td>89.52</td>\n",
       "      <td>86.83</td>\n",
       "      <td>83.99</td>\n",
       "      <td>77.02</td>\n",
       "      <td>70.12</td>\n",
       "      <td>70.96</td>\n",
       "      <td>83.80</td>\n",
       "      <td>73.44</td>\n",
       "      <td>73.47</td>\n",
       "    </tr>\n",
       "    <tr>\n",
       "      <th>codear</th>\n",
       "      <td>90.49</td>\n",
       "      <td>87.67</td>\n",
       "      <td>83.95</td>\n",
       "      <td>88.07</td>\n",
       "      <td>84.08</td>\n",
       "      <td>81.63</td>\n",
       "      <td>78.18</td>\n",
       "      <td>67.94</td>\n",
       "      <td>67.91</td>\n",
       "      <td>84.59</td>\n",
       "      <td>72.55</td>\n",
       "      <td>73.15</td>\n",
       "    </tr>\n",
       "  </tbody>\n",
       "</table>\n",
       "</div>"
      ],
      "text/plain": [
       "task   mort_icu             mort_hosp             los_3             los_7  \\\n",
       "auroc     train   dev  test     train   dev  test train   dev  test train   \n",
       "real      91.69 88.87 86.03     89.52 86.83 83.99 77.02 70.12 70.96 83.80   \n",
       "codear    90.49 87.67 83.95     88.07 84.08 81.63 78.18 67.94 67.91 84.59   \n",
       "\n",
       "task                \n",
       "auroc    dev  test  \n",
       "real   73.44 73.47  \n",
       "codear 72.55 73.15  "
      ]
     },
     "metadata": {},
     "output_type": "display_data"
    },
    {
     "name": "stdout",
     "output_type": "stream",
     "text": [
      "\n",
      "\n"
     ]
    }
   ],
   "source": [
    "roc_dict = {}\n",
    "idx = pd.IndexSlice\n",
    "\n",
    "for MODEL in ['real', 'codear']:\n",
    "    print(f\"# {MODEL} #\")\n",
    "    roc_dict[MODEL] = {'mort_hosp':[], 'mort_icu':[], 'los_3':[], 'los_7':[]}\n",
    "    \n",
    "    if MODEL!='real':\n",
    "        for subj in tqdm_notebook(train_subj):\n",
    "            x = np.load(f\"./synthetic_dataset/{MODEL}/sequences/{subj}.npy\")\n",
    "            df_X.loc[df_X.index.get_level_values('subject_id') == subj, idx[:, 'mean']] = x\n",
    "\n",
    "    [(df_X_train, df_X_dev, df_X_test), (df_Y_train, df_Y_dev, df_Y_test)] = [\n",
    "        [df[df.index.get_level_values('subject_id').isin(s)] for s in (train_subj, dev_subj, test_subj)] \\\n",
    "        for df in (df_X, df_Y)\n",
    "    ]\n",
    "    \n",
    "    df_X_means = np.nanmean(df_X_train.loc[:, idx[:, ['mean']]].to_numpy(), axis=0)\n",
    "    df_X_stds = np.nanstd(df_X_train.loc[:, idx[:, ['mean']]].to_numpy(), axis=0)\n",
    "\n",
    "    df_X_train = preprocess_data(df_X_train, df_X_means, df_X_stds)\n",
    "    df_X_dev = preprocess_data(df_X_dev, df_X_means, df_X_stds)\n",
    "    df_X_test = preprocess_data(df_X_test, df_X_means, df_X_stds)\n",
    "\n",
    "    X_train = df_X_train.to_numpy().reshape(-1, 24, df_X_train.shape[-1])[:,:,1::2]\n",
    "    X_dev = df_X_dev.to_numpy().reshape(-1, 24, df_X_train.shape[-1])[:,:,1::2]\n",
    "    X_test = df_X_test.to_numpy().reshape(-1, 24, df_X_train.shape[-1])[:,:,1::2]\n",
    "\n",
    "    Y_train = df_Y_train.to_numpy().astype(int)\n",
    "    Y_dev = df_Y_dev.to_numpy().astype(int)\n",
    "    Y_test = df_Y_test.to_numpy().astype(int)\n",
    "\n",
    "    n_labels = 4\n",
    "    for c in range(n_labels):\n",
    "        print(idx2task[c])\n",
    "        clf = RandomForestClassifier(**hyperparams, random_state=0, n_jobs=4)\n",
    "        clf.fit(X_train.reshape(-1, 24*X_train.shape[-1]), Y_train[:, c])\n",
    "\n",
    "        roc_task = []\n",
    "        train_roc = roc_auc_score(Y_train[:, c], clf.predict_proba(X_train.reshape(-1, 24*X_train.shape[-1]))[:,1])\n",
    "        roc_task.append(train_roc)\n",
    "        print(train_roc)\n",
    "\n",
    "        dev_roc = roc_auc_score(Y_dev[:, c], clf.predict_proba(X_dev.reshape(-1, 24*X_train.shape[-1]))[:,1])\n",
    "        roc_task.append(dev_roc)\n",
    "        print(dev_roc)\n",
    "\n",
    "        test_roc = roc_auc_score(Y_test[:, c], clf.predict_proba(X_test.reshape(-1, 24*X_train.shape[-1]))[:,1])\n",
    "        roc_task.append(test_roc)\n",
    "        print(test_roc)\n",
    "        roc_dict[MODEL][idx2task[c]].append(roc_task)\n",
    "    print()\n",
    "    print()\n",
    "    print()\n",
    "\n",
    "iterables = [[\"mort_icu\", \"mort_hosp\", \"los_3\", \"los_7\"], [\"train\", \"dev\", \"test\"]]\n",
    "multiindex_columns = pd.MultiIndex.from_product(iterables, names=[\"task\", \"auroc\"])\n",
    "\n",
    "pd.options.display.float_format = '{:.2f}'.format\n",
    "rows = []\n",
    "rocs = []\n",
    "for model in ['real', 'codear']:\n",
    "    roc_results = roc_dict[model]\n",
    "    rows.append(model)\n",
    "    \n",
    "    row_rocs=[]\n",
    "    for target_task in [\"mort_icu\", \"mort_hosp\", \"los_3\", \"los_7\"]:\n",
    "        seed_results = 100*np.asarray(roc_results[target_task])\n",
    "        row_rocs.extend(list(np.mean(seed_results, axis=0)))\n",
    "    rocs.append(row_rocs)\n",
    "\n",
    "df = pd.DataFrame(rocs, index = rows, columns = multiindex_columns)\n",
    "ipd.display(df)\n",
    "print()\n",
    "print()"
   ]
  }
 ],
 "metadata": {
  "kernelspec": {
   "display_name": "Python [conda env:IITP_MED] *",
   "language": "python",
   "name": "conda-env-IITP_MED-py"
  },
  "language_info": {
   "codemirror_mode": {
    "name": "ipython",
    "version": 3
   },
   "file_extension": ".py",
   "mimetype": "text/x-python",
   "name": "python",
   "nbconvert_exporter": "python",
   "pygments_lexer": "ipython3",
   "version": "3.9.12"
  },
  "varInspector": {
   "cols": {
    "lenName": 16,
    "lenType": 16,
    "lenVar": 40
   },
   "kernels_config": {
    "python": {
     "delete_cmd_postfix": "",
     "delete_cmd_prefix": "del ",
     "library": "var_list.py",
     "varRefreshCmd": "print(var_dic_list())"
    },
    "r": {
     "delete_cmd_postfix": ") ",
     "delete_cmd_prefix": "rm(",
     "library": "var_list.r",
     "varRefreshCmd": "cat(var_dic_list()) "
    }
   },
   "types_to_exclude": [
    "module",
    "function",
    "builtin_function_or_method",
    "instance",
    "_Feature"
   ],
   "window_display": false
  }
 },
 "nbformat": 4,
 "nbformat_minor": 5
}
